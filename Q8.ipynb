{
 "cells": [
  {
   "cell_type": "code",
   "execution_count": 1,
   "id": "e5feaada",
   "metadata": {},
   "outputs": [],
   "source": [
    "from sklearn.model_selection import train_test_split\n",
    "import pandas as pd\n",
    "import numpy as np\n",
    "import math"
   ]
  },
  {
   "cell_type": "markdown",
   "id": "2a6345e1",
   "metadata": {},
   "source": [
    "### Read Dataset"
   ]
  },
  {
   "cell_type": "markdown",
   "id": "b3590571",
   "metadata": {},
   "source": [
    "Read the dataset in this section."
   ]
  },
  {
   "cell_type": "code",
   "execution_count": 2,
   "id": "7248c704",
   "metadata": {},
   "outputs": [],
   "source": [
    "data = pd.read_csv('heart.csv')"
   ]
  },
  {
   "cell_type": "markdown",
   "id": "73c1c685",
   "metadata": {},
   "source": [
    "### Prepare Dataset"
   ]
  },
  {
   "cell_type": "markdown",
   "id": "b4a6a064",
   "metadata": {},
   "source": [
    "First of all, search for missing values in the dataset. if there are missing values, handle them however you want."
   ]
  },
  {
   "cell_type": "code",
   "execution_count": 3,
   "id": "18ad824e",
   "metadata": {},
   "outputs": [
    {
     "name": "stdout",
     "output_type": "stream",
     "text": [
      "age         0\n",
      "sex         0\n",
      "cp          0\n",
      "trestbps    0\n",
      "chol        0\n",
      "fbs         0\n",
      "restecg     0\n",
      "thalach     0\n",
      "exang       0\n",
      "oldpeak     0\n",
      "slope       0\n",
      "ca          0\n",
      "thal        0\n",
      "target      0\n",
      "dtype: int64\n"
     ]
    }
   ],
   "source": [
    "print(data.isnull().sum())"
   ]
  },
  {
   "cell_type": "markdown",
   "id": "20d75210",
   "metadata": {},
   "source": [
    "Then, read the dataset catalog. There are some categorical features with the \"int\" type. Encode these features so that you can distinguish between numerical and categorical features."
   ]
  },
  {
   "cell_type": "code",
   "execution_count": 4,
   "id": "25de8d0c",
   "metadata": {},
   "outputs": [
    {
     "name": "stdout",
     "output_type": "stream",
     "text": [
      "age         category\n",
      "sex         category\n",
      "cp          category\n",
      "trestbps    category\n",
      "chol        category\n",
      "fbs         category\n",
      "restecg     category\n",
      "thalach     category\n",
      "exang       category\n",
      "oldpeak     category\n",
      "slope       category\n",
      "ca          category\n",
      "thal        category\n",
      "target         int64\n",
      "dtype: object\n"
     ]
    }
   ],
   "source": [
    "data['sex'] = pd.cut(data['sex'], bins=[-np.inf, 0, np.inf], labels=['female', 'male'])\n",
    "data['cp'] = pd.cut(data['cp'], bins=[-np.inf, 0, 1, 2, np.inf], labels=['Value 1', 'Value 2', 'Value 3', 'Value 4'])\n",
    "data['fbs'] = pd.cut(data['fbs'], bins=[-np.inf, 0, np.inf], labels=['false', 'true'])\n",
    "data['restecg'] = pd.cut(data['restecg'], bins=[-np.inf, 0, 1, np.inf], labels=['Value 0', 'Value 1', 'Value 2'])\n",
    "data['exang'] = pd.cut(data['exang'], bins=[-np.inf, 0, np.inf], labels=['no', 'yes'])\n",
    "data['slope'] = pd.cut(data['slope'], bins=[-np.inf, 0, 1, np.inf], labels=['Value 1', 'Value 2', 'Value 3'])\n",
    "data['ca'] = pd.cut(data['ca'], bins=[-np.inf, 0, 1, 2, np.inf], labels=['0 major vessels', '1 major vessels', '2 major vessels', '3 major vessels'])\n",
    "data['thal'] = pd.cut(data['thal'], bins=[-np.inf, 1, 2, np.inf], labels=['normal', 'fixed defect', 'reversable defect'])\n",
    "\n",
    "data['age'] = pd.cut(data['age'], bins=[-np.inf, 35, 45, 55, 65, np.inf], labels=['<35', '35-45', '45-55', '55-65', '65<'])\n",
    "data['trestbps'] = pd.cut(data['trestbps'], bins=[-np.inf, 100, 110, 120, 130, 140, 150, np.inf], labels=['<100', '100-110', '110-120', '120-130', '130-140', '140-150', '150<'])\n",
    "data['chol'] = pd.cut(data['chol'], bins=[-np.inf, 150, 200, 250, 300, 350, 400, np.inf], labels=['<150', '150-200', '200-250', '250-300', '300-350', '350-400', '400<'])\n",
    "data['thalach'] = pd.cut(data['thalach'], bins=[-np.inf, 140, 150, 160, 170, 180, 190, np.inf], labels=['<140', '140-150', '150-160', '160-170', '170-180', '180-190', '190<'])\n",
    "data['oldpeak'] = pd.cut(data['oldpeak'], bins=[-np.inf, 0.5, 1, 1.5, 2, 2.5, np.inf], labels=['<0.5', '0.5-1', '1-1.5', '1.5-2', '2-2.5', '2.5<'])\n",
    "\n",
    "print(data.dtypes)"
   ]
  },
  {
   "cell_type": "markdown",
   "id": "ac80b358",
   "metadata": {},
   "source": [
    "### Declare feature vector and target variable"
   ]
  },
  {
   "cell_type": "markdown",
   "id": "fd380b7b",
   "metadata": {},
   "source": [
    "Here, you are supposed to convert pandas data frame into feature vectors and target variables"
   ]
  },
  {
   "cell_type": "code",
   "execution_count": 5,
   "id": "bf356570",
   "metadata": {},
   "outputs": [],
   "source": [
    "data = data.to_numpy()"
   ]
  },
  {
   "cell_type": "code",
   "execution_count": 6,
   "id": "dc35fe6c",
   "metadata": {},
   "outputs": [],
   "source": [
    "X = data.T[0:13].T\n",
    "Y = data.T[13].T"
   ]
  },
  {
   "cell_type": "markdown",
   "id": "526a17a0",
   "metadata": {},
   "source": [
    "### Split data into separate training and test set"
   ]
  },
  {
   "cell_type": "markdown",
   "id": "e25fd9b6",
   "metadata": {},
   "source": [
    "Now it's time to split X and y into separate training and test set. You can use the sklearn library for this section."
   ]
  },
  {
   "cell_type": "code",
   "execution_count": 7,
   "id": "1dacf4c9",
   "metadata": {},
   "outputs": [],
   "source": [
    "X_train, X_test, Y_train, Y_test = train_test_split(X, Y, test_size=0.2, shuffle=True)\n",
    "X_train = X_train.tolist()\n",
    "X_test = X_test.tolist()\n",
    "Y_train = Y_train.tolist()\n",
    "Y_test = Y_test.tolist()"
   ]
  },
  {
   "cell_type": "markdown",
   "id": "d6555b74",
   "metadata": {},
   "source": [
    "## Implement desicion tree algorithm"
   ]
  },
  {
   "cell_type": "markdown",
   "id": "c339be89",
   "metadata": {},
   "source": [
    "In this cell, you are going to implement your decision tree. Feel free to add more arguments to functions or add your desired functions."
   ]
  },
  {
   "cell_type": "code",
   "execution_count": 8,
   "id": "b689aee8",
   "metadata": {},
   "outputs": [],
   "source": [
    "def H(S):\n",
    "    return -(S.count(0)/len(S))*(math.log((S.count(0)/len(S)), 2) if S.count(0)!=0 else 0)-(S.count(1)/len(S))*(math.log((S.count(1)/len(S)), 2) if S.count(1)!=0 else 0)\n",
    "\n",
    "def gini(S):\n",
    "    return 1-((S.count(0)/len(S))**2+(S.count(1)/len(S))**2)\n",
    "\n",
    "def classify(x, y, attr):\n",
    "    out_x = []\n",
    "    out_y = []\n",
    "    col = []\n",
    "    for k in list(set(np.array(x).T.tolist()[attr])):\n",
    "        col.append(k)\n",
    "        out_x.append([])\n",
    "        out_y.append([])\n",
    "        for i, j in zip(x, y):\n",
    "            if (i[attr]==k):\n",
    "                out_x[-1].append(i)\n",
    "                out_y[-1].append(j)\n",
    "    return out_x, out_y, col\n",
    "\n",
    "def find_best_attr(x, y, metric):\n",
    "    if (len(set(y))==1):\n",
    "        label = y[0]\n",
    "        return 'leaf', label\n",
    "    label = (2*sum(y))//len(y)\n",
    "    if (metric=='entropy'):\n",
    "        IG = []\n",
    "        for i in range(len(x[0])):\n",
    "            v_x, v_y,_ = classify(x, y, i)\n",
    "            s = 0\n",
    "            for i, j in zip(v_x, v_y):\n",
    "                s+=len(i)/len(x)*H(j)\n",
    "            IG.append(H(y) - s)\n",
    "        attr = IG.index(max(IG))\n",
    "    if (metric=='gini'):\n",
    "        gini = []\n",
    "        for i in range(len(x[0])):\n",
    "            v_x, v_y,_ = classify(x, y, i)\n",
    "            s = 0\n",
    "            for i, j in zip(v_x, v_y):\n",
    "                s+=len(i)/len(x)*gini(j)\n",
    "            gini.append(s)\n",
    "        attr = gini.index(min(gini))\n",
    "    return attr, label\n",
    "\n",
    "\n",
    "class DecisionTree:\n",
    "     \n",
    "    def __init__(self, criterion='entropy', max_depth=math.inf):\n",
    "        \"\"\"\n",
    "        Parameters:\n",
    "        \n",
    "        criterion -- “gini” for the Gini impurity and “entropy” for the information gain. (default “entropy”)\n",
    "        max_depth -- The maximum depth of the tree. If None, then nodes are expanded until all leaves are pure. (default=None)\n",
    "        \"\"\"\n",
    "        self.criterion = criterion\n",
    "        self.max_depth = max_depth\n",
    "        self.root = None\n",
    "        self.tree = []\n",
    "        \n",
    "    \n",
    "    def fit(self, x, y):\n",
    "        \"\"\"\n",
    "        Build a decision tree classifier from the training set (X, y).\n",
    "\n",
    "        Returns:\n",
    "        self : Fitted estimator\n",
    "        \"\"\"\n",
    "        q_x = [[x[:], None, None]]\n",
    "        q_y = [[y[:], None, None]]\n",
    "        attr, label = find_best_attr(x, y, 'entropy')\n",
    "        out_x, out_y, col = classify(x, y, attr)\n",
    "        self.root = attr\n",
    "        while len(q_x)!=0:\n",
    "            q = q_x.pop(0)[:]\n",
    "            d = q_y.pop(0)[:]\n",
    "            x = q[0]\n",
    "            y = d[0]\n",
    "            attr, label = find_best_attr(x, y, 'entropy')\n",
    "            self.tree.append([q[1], attr, q[2], label])\n",
    "            if(attr!='leaf'):\n",
    "                out_x, out_y, col = classify(x, y, attr)\n",
    "                for i, j, k in zip(out_x, out_y, col):\n",
    "                    q_x.append([i[:], attr, k])\n",
    "                    q_y.append([j[:], attr, k])\n",
    "        return\n",
    "    \n",
    "    def predict(self, x):\n",
    "        \"\"\"\n",
    "        Predict class value for X.\n",
    "\n",
    "        Returns:\n",
    "        y : The predicted classes\n",
    "        \"\"\"\n",
    "        k = self.root\n",
    "        c = 0\n",
    "        while k!='leaf':\n",
    "            c+=1\n",
    "            for i in self.tree:\n",
    "                if i[0]==k and x[k]==i[2]:\n",
    "                    k = i[1]\n",
    "                    label = i[3]\n",
    "                    break\n",
    "            if c>min(len(self.tree), self.max_depth):\n",
    "                break\n",
    "        return label\n",
    "        \n",
    "# a = [\n",
    "# ['s1','h2','h3','l4'],\n",
    "# ['s1','h2','h3','s4'],\n",
    "# ['o1','h2','h3','l4'],\n",
    "# ['r1','m2','h3','l4'],\n",
    "# ['r1','c2','n3','l4'],\n",
    "# ['r1','c2','n3','s4'],\n",
    "# ['o1','c2','n3','s4'],\n",
    "# ['s1','m2','h3','l4'],\n",
    "# ['s1','c2','n3','l4'],\n",
    "# ['r1','m2','n3','l4'],\n",
    "# ['s1','m2','n3','s4'],\n",
    "# ['o1','m2','h3','s4'],\n",
    "# ['o1','h2','n3','l4'],\n",
    "# ['r1','m2','h3','s4']\n",
    "# ]\n",
    "# b = [0,0,1,1,1,0,1,0,1,1,1,1,1,0]\n",
    "# d = DecisionTree('entropy',)\n",
    "# d.fit(a, b)\n",
    "# for i in a:\n",
    "#     print(d.predict(i))"
   ]
  },
  {
   "cell_type": "markdown",
   "id": "c267b831",
   "metadata": {},
   "source": [
    "### Part 1 : Compare Gini and Entropy "
   ]
  },
  {
   "cell_type": "code",
   "execution_count": 9,
   "id": "511ec5db",
   "metadata": {},
   "outputs": [],
   "source": [
    "dt_gini = DecisionTree('gini',)\n",
    "dt_entropy = DecisionTree('entropy',)"
   ]
  },
  {
   "cell_type": "markdown",
   "id": "0bb1f0ac",
   "metadata": {},
   "source": [
    "In this cell, fit both declared trees on the train set and predict values on the test set."
   ]
  },
  {
   "cell_type": "code",
   "execution_count": 10,
   "id": "826f7e9e",
   "metadata": {},
   "outputs": [],
   "source": [
    "dt_entropy.fit(X_train, Y_train)\n",
    "dt_gini.fit(X_train, Y_train)\n",
    "Y_pred_entropy = []\n",
    "Y_pred_gini = []\n",
    "for i in X_test:\n",
    "    Y_pred_entropy.append(dt_entropy.predict(i))\n",
    "    Y_pred_gini.append(dt_gini.predict(i))"
   ]
  },
  {
   "cell_type": "markdown",
   "id": "a3ecdffe",
   "metadata": {},
   "source": [
    "Plot confusion matrix for both decision trees."
   ]
  },
  {
   "cell_type": "code",
   "execution_count": 11,
   "id": "a895cd05",
   "metadata": {},
   "outputs": [
    {
     "name": "stdout",
     "output_type": "stream",
     "text": [
      "Entropy: \n",
      "0.6557377049180327\n",
      "[[10 14]\n",
      " [ 7 30]]\n",
      "Gini: \n",
      "0.6557377049180327\n",
      "[[10 14]\n",
      " [ 7 30]]\n"
     ]
    }
   ],
   "source": [
    "from sklearn.metrics import accuracy_score\n",
    "from sklearn.metrics import confusion_matrix\n",
    "\n",
    "print('Entropy: ')\n",
    "print(accuracy_score(Y_test, Y_pred_entropy))\n",
    "print(confusion_matrix(Y_test, Y_pred_entropy))\n",
    "print('Gini: ')\n",
    "print(accuracy_score(Y_test, Y_pred_gini))\n",
    "print(confusion_matrix(Y_test, Y_pred_gini))"
   ]
  },
  {
   "cell_type": "markdown",
   "id": "40e9f01f",
   "metadata": {},
   "source": [
    "### Part 2 : Let's add maximum depth!"
   ]
  },
  {
   "cell_type": "markdown",
   "id": "819b7033",
   "metadata": {},
   "source": [
    "Define an array of different maximum depths"
   ]
  },
  {
   "cell_type": "code",
   "execution_count": 12,
   "id": "6934e715",
   "metadata": {},
   "outputs": [
    {
     "name": "stdout",
     "output_type": "stream",
     "text": [
      "[0.6721311475409836, 0.6721311475409836, 0.6557377049180327, 0.6557377049180327, 0.6557377049180327, 0.6557377049180327, 0.6557377049180327, 0.6557377049180327, 0.6557377049180327, 0.6557377049180327, 0.6557377049180327]\n"
     ]
    },
    {
     "data": {
      "image/png": "[encoded data removed]",
      "text/plain": [
       "<Figure size 432x288 with 1 Axes>"
      ]
     },
     "metadata": {
      "needs_background": "light"
     },
     "output_type": "display_data"
    }
   ],
   "source": [
    "import matplotlib.pyplot as plt\n",
    "\n",
    "max_depths = [2,3,4,5,6,7,8,9,10,11,12] # FILL THIS LIST WITH DESIRED VALUES\n",
    "accuracy_scores = []\n",
    "\n",
    "for max_depth in max_depths:\n",
    "    Y_pred_entropy = []\n",
    "    dt = DecisionTree(criterion='entropy', max_depth=max_depth) # Feel free to change the \"entropy\" to the \"gini\"\n",
    "    dt.fit(X_train, Y_train)\n",
    "\n",
    "    # FIT declared tree to the train set and predict values on the test set. then calcualte accuracy score on the test set\n",
    "    # Feel free to use the sklearn moudle for calcualting accuracy score.\n",
    "    for i in X_test:\n",
    "        Y_pred_entropy.append(dt.predict(i))\n",
    "\n",
    "    acc = accuracy_score(Y_test, Y_pred_entropy)\n",
    "    accuracy_scores.append(acc)\n",
    "\n",
    "print(accuracy_scores)\n",
    "plt.plot(max_depths, accuracy_scores)\n",
    "plt.show()\n"
   ]
  },
  {
   "cell_type": "code",
   "execution_count": 13,
   "id": "a8f43ec3",
   "metadata": {},
   "outputs": [
    {
     "name": "stdout",
     "output_type": "stream",
     "text": [
      "Depth : 2, Accuracy : 0.6721311475409836\n",
      "Depth : 3, Accuracy : 0.6721311475409836\n",
      "Depth : 4, Accuracy : 0.6557377049180327\n",
      "Depth : 5, Accuracy : 0.6557377049180327\n",
      "Depth : 6, Accuracy : 0.6557377049180327\n",
      "Depth : 7, Accuracy : 0.6557377049180327\n",
      "Depth : 8, Accuracy : 0.6557377049180327\n",
      "Depth : 9, Accuracy : 0.6557377049180327\n",
      "Depth : 10, Accuracy : 0.6557377049180327\n",
      "Depth : 11, Accuracy : 0.6557377049180327\n",
      "Depth : 12, Accuracy : 0.6557377049180327\n"
     ]
    }
   ],
   "source": [
    "for depth, score in zip(max_depths, accuracy_scores):\n",
    "    print(f\"Depth : {depth}, Accuracy : {score}\")"
   ]
  },
  {
   "cell_type": "markdown",
   "id": "a7e81c1d",
   "metadata": {},
   "source": [
    "Now compare the accuracy score of decision trees with and without using the \"max_depth\" parameter and discuss the effects of limiting the maximum depth of decision trees."
   ]
  },
  {
   "cell_type": "markdown",
   "id": "dbc7f840",
   "metadata": {},
   "source": [
    "در دو حالت آنتروپی و جینی به درصد دقت یکسانی در اکثر آزمایشات رسیدم فقط در یک مورد دقت‌های متفاوت دادند که به نظرم به دلیل\n",
    "تعداد کم دیتا و ریز دسته بندی کردن برای داده‌های پیوسته که باعث یکسان شدن انتخاب ریشه‌ها توسط آنتروپی و جینی شده است می‌باشد\n",
    "هنگام کاهش عمق در اکثر آزمایشات دیده شد که هنگامی که عمق زیاد باشد درصد دقت کاهش پیدا می‌کند و بهترین درصد دقت در عمق های کم مثل ۲ یا ۳ دیده شد\n",
    "دلیل این اتفاق این است که هنگامی که عمق درخت زیاد شود درخت بر روی داده‌ آموزشی بیش‌برازش می‌کند بنابراین دقت آن بر روی داده‌ی تست کاهش پیدا می‌کند"
   ]
  }
 ],
 "metadata": {
  "interpreter": {
   "hash": "eab7c8994d7768231886659fa7e0d0b6bcd62a9e2119102ea3dd820e9b07d2f1"
  },
  "kernelspec": {
   "display_name": "Python 3.9.4 64-bit",
   "language": "python",
   "name": "python3"
  },
  "language_info": {
   "codemirror_mode": {
    "name": "ipython",
    "version": 3
   },
   "file_extension": ".py",
   "mimetype": "text/x-python",
   "name": "python",
   "nbconvert_exporter": "python",
   "pygments_lexer": "ipython3",
   "version": "3.8.8"
  }
 },
 "nbformat": 4,
 "nbformat_minor": 5
}
